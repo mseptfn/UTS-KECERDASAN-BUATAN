{
 "cells": [
  {
   "cell_type": "code",
   "execution_count": 2,
   "id": "e81533d2-79e0-4c60-a533-f5d7bffc118d",
   "metadata": {},
   "outputs": [],
   "source": [
    "company_detail_list = [\n",
    "    {'name': 'Company 1', 'domain': 'Retail', 'country': 'United States'},\n",
    "    {'name': 'Company 2', 'domain': 'Technology', 'country': 'United Kingdom'},\n",
    "    {'name': 'Company 3', 'domain': 'Healthcare', 'country': 'United States'}\n",
    "]\n",
    "\n",
    "employee_detail_list = [\n",
    "    {'name': 'EMP-0001', 'first_name': 'John', 'last_name': 'Doe', 'full_name': 'John Doe', 'company': 'Company 1', 'nationality': 'Australia'},\n",
    "    {'name': 'EMP-0002', 'first_name': 'Tom', 'last_name': 'Smith', 'full_name': 'Tom Smith', 'company': 'Company 2', 'nationality': 'United States'},\n",
    "    {'name': 'EMP-0003', 'first_name': 'Andrew', 'last_name': 'Sebastian', 'full_name': 'Andrew Sebastian', 'company': 'Company 3', 'nationality': 'United States'},\n",
    "    {'name': 'EMP-0005', 'first_name': 'Ying Han', 'last_name': 'Tan', 'full_name': 'Ying Han Tan', 'company': 'Company 1', 'nationality': 'Australia'},\n",
    "    {'name': 'EMP-0015', 'first_name': 'Kenneth', 'last_name': 'Ng', 'full_name': 'Kenneth Ng', 'company': 'Company 3', 'nationality': 'United States'},\n",
    "    {'name': 'EMP-0018', 'first_name': 'Rubby', 'last_name': 'Lee', 'full_name': 'Rubby Lee', 'company': 'Company 2', 'nationality': 'Hong Kong'},\n",
    "    {'name': 'EMP-0017', 'first_name': 'Robert', 'last_name': 'White', 'full_name': 'Robert White', 'company': 'Company 1', 'nationality': 'United Kingdom'}\n",
    "]\n"
   ]
  },
  {
   "cell_type": "code",
   "execution_count": 3,
   "id": "fbdac27d-3e8d-4dd2-a2fe-803a73ca5fed",
   "metadata": {},
   "outputs": [
    {
     "name": "stdout",
     "output_type": "stream",
     "text": [
      "[{'name': 'Company 3'}, {'name': 'Company 2'}, {'name': 'Company 1'}]\n"
     ]
    }
   ],
   "source": [
    "def get_companies_sorted():\n",
    "    sorted_companies = sorted(company_detail_list, key=lambda x: x['name'], reverse=True)\n",
    "    return [{'name': company['name']} for company in sorted_companies]\n",
    "\n",
    "print(get_companies_sorted())\n"
   ]
  },
  {
   "cell_type": "code",
   "execution_count": 4,
   "id": "c9fee266-14c9-4477-b4b5-49c4b834862b",
   "metadata": {},
   "outputs": [
    {
     "name": "stdout",
     "output_type": "stream",
     "text": [
      "Company 1: Retail (United States)\n",
      "Company 2: Technology (United Kingdom)\n",
      "Company 3: Healthcare (United States)\n"
     ]
    }
   ],
   "source": [
    "def print_company_domains():\n",
    "    for company in company_detail_list:\n",
    "        print(f\"{company['name']}: {company['domain']} ({company['country']})\")\n",
    "\n",
    "print_company_domains()\n"
   ]
  },
  {
   "cell_type": "code",
   "execution_count": 5,
   "id": "404ffa39-e8dd-4cdb-8620-35cecc7100e0",
   "metadata": {},
   "outputs": [
    {
     "name": "stdout",
     "output_type": "stream",
     "text": [
      "{'Retail': ['John Doe', 'Ying Han Tan', 'Robert White'], 'Technology': ['Tom Smith', 'Rubby Lee'], 'Healthcare': ['Andrew Sebastian', 'Kenneth Ng']}\n"
     ]
    }
   ],
   "source": [
    "def employees_by_company_domain():\n",
    "    domain_to_employees = {}\n",
    "    for company in company_detail_list:\n",
    "        domain_to_employees[company['domain']] = [\n",
    "            emp['full_name'] for emp in employee_detail_list if emp['company'] == company['name']\n",
    "        ]\n",
    "    return domain_to_employees\n",
    "\n",
    "print(employees_by_company_domain())\n"
   ]
  },
  {
   "cell_type": "code",
   "execution_count": 6,
   "id": "81c41e57-650f-44f5-9b07-f604fc60ae4d",
   "metadata": {},
   "outputs": [
    {
     "name": "stdout",
     "output_type": "stream",
     "text": [
      "[{'full_name': 'John Doe', 'company': 'Company 1', 'country': 'United States'}, {'full_name': 'Tom Smith', 'company': 'Company 2', 'country': 'United Kingdom'}, {'full_name': 'Andrew Sebastian', 'company': 'Company 3', 'country': 'United States'}, {'full_name': 'Ying Han Tan', 'company': 'Company 1', 'country': 'United States'}, {'full_name': 'Kenneth Ng', 'company': 'Company 3', 'country': 'United States'}, {'full_name': 'Rubby Lee', 'company': 'Company 2', 'country': 'United Kingdom'}, {'full_name': 'Robert White', 'company': 'Company 1', 'country': 'United States'}]\n"
     ]
    }
   ],
   "source": [
    "def employees_with_company_country():\n",
    "    company_to_country = {company['name']: company['country'] for company in company_detail_list}\n",
    "    result = []\n",
    "    for emp in employee_detail_list:\n",
    "        result.append({\n",
    "            'full_name': emp['full_name'],\n",
    "            'company': emp['company'],\n",
    "            'country': company_to_country.get(emp['company'])\n",
    "        })\n",
    "    return result\n",
    "\n",
    "print(employees_with_company_country())\n"
   ]
  },
  {
   "cell_type": "code",
   "execution_count": 7,
   "id": "28f71051-ee26-418f-a245-e46c76fa64ee",
   "metadata": {},
   "outputs": [
    {
     "name": "stdout",
     "output_type": "stream",
     "text": [
      "[{'company': 'Company 1', 'employee_nationality': {'Australia': 2, 'United Kingdom': 1}}, {'company': 'Company 2', 'employee_nationality': {'United States': 1, 'Hong Kong': 1}}, {'company': 'Company 3', 'employee_nationality': {'United States': 2}}]\n"
     ]
    }
   ],
   "source": [
    "from collections import defaultdict\n",
    "\n",
    "def nationality_count_by_company():\n",
    "    result = []\n",
    "    for company in company_detail_list:\n",
    "        nationality_count = defaultdict(int)\n",
    "        for emp in employee_detail_list:\n",
    "            if emp['company'] == company['name']:\n",
    "                nationality_count[emp['nationality']] += 1\n",
    "        result.append({\n",
    "            'company': company['name'],\n",
    "            'employee_nationality': dict(nationality_count)\n",
    "        })\n",
    "    return result\n",
    "\n",
    "print(nationality_count_by_company())\n"
   ]
  }
 ],
 "metadata": {
  "kernelspec": {
   "display_name": "Python 3 (ipykernel)",
   "language": "python",
   "name": "python3"
  },
  "language_info": {
   "codemirror_mode": {
    "name": "ipython",
    "version": 3
   },
   "file_extension": ".py",
   "mimetype": "text/x-python",
   "name": "python",
   "nbconvert_exporter": "python",
   "pygments_lexer": "ipython3",
   "version": "3.11.1"
  }
 },
 "nbformat": 4,
 "nbformat_minor": 5
}
